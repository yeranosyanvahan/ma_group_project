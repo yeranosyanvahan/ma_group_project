{
 "cells": [
  {
   "cell_type": "markdown",
   "metadata": {},
   "source": [
    "## Loading modules and packages"
   ]
  },
  {
   "cell_type": "code",
   "execution_count": null,
   "metadata": {},
   "outputs": [],
   "source": [
    "from clv.db.data_generator import generate_dim_customer\n",
    "from clv.db.data_generator import generate_dim_payment_method\n",
    "from clv.db.data_generator import generate_fact_transaction\n",
    "import pandas as pd\n",
    "import random"
   ]
  },
  {
   "cell_type": "markdown",
   "metadata": {},
   "source": [
    "## Declaring Constants"
   ]
  },
  {
   "cell_type": "code",
   "execution_count": null,
   "metadata": {},
   "outputs": [],
   "source": [
    "NUMBER_OF_TRANSACTIONS = 100\n",
    "NUMBER_OF_CUSTOMERS = 11\n",
    "NUMBER_OF_PAYMENT_METHODS = 5"
   ]
  },
  {
   "cell_type": "markdown",
   "metadata": {},
   "source": [
    "## Generating Dim_Customer Data"
   ]
  },
  {
   "cell_type": "code",
   "execution_count": null,
   "metadata": {},
   "outputs": [],
   "source": [
    "customer_data = [generate_dim_customer(customer_id) for customer_id in range(NUMBER_OF_CUSTOMERS)]\n",
    "df_customers = pd.DataFrame(customer_data)\n",
    "print(df_customers.head())\n",
    "df_customers.to_csv('dim_customer.csv', index=False)"
   ]
  },
  {
   "cell_type": "markdown",
   "metadata": {},
   "source": [
    "## Generating Dim_Payment_Method Data"
   ]
  },
  {
   "cell_type": "code",
   "execution_count": null,
   "metadata": {},
   "outputs": [],
   "source": [
    "data = {\n",
    "    \"payment_method_id\": [0, 1, 2, 3, 4],\n",
    "    \"payment_method_name\": [\"Credit Card\", \"Debit Card\", \"Paypal\", \"Bank Transfer\", \"Cash\"]\n",
    "}\n",
    "\n",
    "df_payment_methods = pd.DataFrame(data)\n",
    "print(df_payment_methods)\n",
    "# df_payment_methods.to_csv('dim_payment_method.csv', index=False)"
   ]
  },
  {
   "cell_type": "markdown",
   "metadata": {},
   "source": [
    "## Generating Fact_Transaction Data"
   ]
  },
  {
   "cell_type": "code",
   "execution_count": null,
   "metadata": {},
   "outputs": [],
   "source": [
    "transaction_data = []\n",
    "\n",
    "for transaction_id in range(1, NUMBER_OF_TRANSACTIONS + 1):\n",
    "    customer_id = random.randint(1, NUMBER_OF_CUSTOMERS)\n",
    "    payment_method_id = random.randint(1, NUMBER_OF_PAYMENT_METHODS)\n",
    "    \n",
    "    transaction = generate_fact_transaction(transaction_id, customer_id, payment_method_id)\n",
    "    transaction_data.append(transaction)\n",
    "\n",
    "df_transactions = pd.DataFrame(transaction_data)\n",
    "print(df_transactions.head())\n",
    "df_transactions.to_csv('fact_transaction.csv', index=False)"
   ]
  }
 ],
 "metadata": {
  "kernelspec": {
   "display_name": "venv",
   "language": "python",
   "name": "python3"
  },
  "language_info": {
   "codemirror_mode": {
    "name": "ipython",
    "version": 3
   },
   "file_extension": ".py",
   "mimetype": "text/x-python",
   "name": "python",
   "nbconvert_exporter": "python",
   "pygments_lexer": "ipython3",
   "version": "3.11.6"
  }
 },
 "nbformat": 4,
 "nbformat_minor": 2
}
