{
 "cells": [
  {
   "cell_type": "markdown",
   "metadata": {},
   "source": [
    "## Loading modules and packages"
   ]
  },
  {
   "cell_type": "code",
   "execution_count": 7,
   "metadata": {},
   "outputs": [],
   "source": [
    "from clv.db.data_generator import generate_dim_customer\n",
    "from clv.db.data_generator import generate_dim_payment_method\n",
    "from clv.db.data_generator import generate_fact_transaction\n",
    "import pandas as pd\n",
    "import random"
   ]
  },
  {
   "cell_type": "markdown",
   "metadata": {},
   "source": [
    "## Declaring Constants"
   ]
  },
  {
   "cell_type": "code",
   "execution_count": 8,
   "metadata": {},
   "outputs": [],
   "source": [
    "NUMBER_OF_TRANSACTIONS = 30\n",
    "NUMBER_OF_CUSTOMERS = 10\n",
    "NUMBER_OF_PAYMENT_METHODS = 5"
   ]
  },
  {
   "cell_type": "markdown",
   "metadata": {},
   "source": [
    "## Generating Dim_Customer Data"
   ]
  },
  {
   "cell_type": "code",
   "execution_count": 28,
   "metadata": {},
   "outputs": [
    {
     "name": "stdout",
     "output_type": "stream",
     "text": [
      "   customer_id  age  gender\n",
      "0            0   46    Male\n",
      "1            1   73  Female\n",
      "2            2   53    Male\n",
      "3            3   72  Female\n",
      "4            4   77    Male\n"
     ]
    }
   ],
   "source": [
    "customer_data = [generate_dim_customer(customer_id) for customer_id in range(NUMBER_OF_CUSTOMERS)]\n",
    "df_customers = pd.DataFrame(customer_data)\n",
    "print(df_customers.head())\n",
    "#df_customers.to_csv('dim_customer.csv', index=False)"
   ]
  },
  {
   "cell_type": "markdown",
   "metadata": {},
   "source": [
    "## Generating Dim_Payment_Method Data"
   ]
  },
  {
   "cell_type": "code",
   "execution_count": 29,
   "metadata": {},
   "outputs": [
    {
     "name": "stdout",
     "output_type": "stream",
     "text": [
      "   payment_method_id payment_method_name\n",
      "0                  0              Paypal\n",
      "1                  1       Bank Transfer\n",
      "2                  2       Bank Transfer\n",
      "3                  3                Cash\n",
      "4                  4       Bank Transfer\n"
     ]
    }
   ],
   "source": [
    "data = {\n",
    "    \"payment_method_id\": [0, 1, 2, 3, 4],\n",
    "    \"payment_method_name\": [\"Credit Card\", \"Debit Card\", \"Paypal\", \"Bank Transfer\", \"Cash\"]\n",
    "}\n",
    "\n",
    "df_payment_methods = pd.DataFrame(data)\n",
    "print(df_payment_methods)\n",
    "# df_payment_methods.to_csv('dim_payment_method.csv', index=False)"
   ]
  },
  {
   "cell_type": "markdown",
   "metadata": {},
   "source": [
    "## Generating Fact_Transaction Data"
   ]
  },
  {
   "cell_type": "code",
   "execution_count": 31,
   "metadata": {},
   "outputs": [
    {
     "name": "stdout",
     "output_type": "stream",
     "text": [
      "   transaction_id  customer_id  payment_method_id    transaction_date  amount\n",
      "0               1           31                  1 2022-05-02 19:57:25   19.99\n",
      "1               2           42                  4 2020-04-08 14:34:16  230.47\n",
      "2               3           49                  3 2023-08-11 22:45:01  135.57\n",
      "3               4           67                  1 2023-05-05 22:55:21  158.10\n",
      "4               5           78                  2 2021-02-27 22:22:33  249.33\n"
     ]
    }
   ],
   "source": [
    "transaction_data = []\n",
    "\n",
    "for transaction_id in range(1, NUMBER_OF_TRANSACTIONS + 1):\n",
    "    customer_id = random.randint(1, NUMBER_OF_CUSTOMERS)\n",
    "    payment_method_id = random.randint(1, NUMBER_OF_PAYMENT_METHODS)\n",
    "    \n",
    "    transaction = generate_fact_transaction(transaction_id, customer_id, payment_method_id)\n",
    "    transaction_data.append(transaction)\n",
    "\n",
    "df_transactions = pd.DataFrame(transaction_data)\n",
    "print(df_transactions.head())\n",
    "#df_transactions.to_csv('fact_transaction.csv', index=False)"
   ]
  },
  {
   "cell_type": "code",
   "execution_count": null,
   "metadata": {},
   "outputs": [],
   "source": []
  }
 ],
 "metadata": {
  "kernelspec": {
   "display_name": "venv",
   "language": "python",
   "name": "python3"
  },
  "language_info": {
   "codemirror_mode": {
    "name": "ipython",
    "version": 3
   },
   "file_extension": ".py",
   "mimetype": "text/x-python",
   "name": "python",
   "nbconvert_exporter": "python",
   "pygments_lexer": "ipython3",
   "version": "3.11.6"
  }
 },
 "nbformat": 4,
 "nbformat_minor": 2
}
