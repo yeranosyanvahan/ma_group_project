{
 "cells": [
  {
   "cell_type": "code",
   "execution_count": 3,
   "metadata": {},
   "outputs": [],
   "source": [
    "import pandas as pd\n",
    "\n",
    "# Sample CSV data\n",
    "data = \"\"\"transaction_id,customer_id,payment_method_id,transaction_date,amount\n",
    "1,0,1,5/2/2022,19.99\n",
    "2,1,4,4/8/2020 14:34,230.47\n",
    "3,2,3,8/11/2023 22:45,135.57\n",
    "4,3,1,5/5/2023 22:55,158.1\n",
    "5,0,2,2/27/2021 22:22,249.33\n",
    "6,5,2,2/10/2020 2:45,261.81\n",
    "7,7,1,5/29/2021 1:00,112.18\n",
    "8,3,4,1/26/2022 15:32,244.53\n",
    "9,9,2,9/16/2022 20:16,263.31\n",
    "10,9,3,3/9/2020 10:48,163.79\n",
    "11,8,4,1/30/2020 23:06,82.12\n",
    "12,7,3,11/21/2020 23:12,272.14\n",
    "13,6,4,5/4/2022 20:09,76.98\n",
    "14,5,3,11/13/2022 1:48,120.76\n",
    "15,4,3,2/1/2020 1:46,179.03\n",
    "16,3,2,7/5/2022 18:47,29.94\n",
    "17,2,4,12/20/2021 12:40,287.31\n",
    "18,1,3,2/15/2021 13:45,333.61\n",
    "19,9,2,10/26/2023 17:37,283.48\n",
    "20,0,1,10/12/2021 19:19,478.02\n",
    "21,2,2,1/19/2021 8:12,393.82\n",
    "22,3,1,5/20/2020 8:52,401.78\n",
    "23,4,4,6/27/2021 10:03,251.53\n",
    "24,7,4,12/9/2022 9:22,466.03\n",
    "25,5,4,7/31/2023 5:56,354.63\n",
    "26,7,2,5/4/2022 3:00,463.49\n",
    "27,8,4,12/13/2022 6:39,386.46\n",
    "28,9,2,6/23/2020 11:37,265.02\n",
    "29,9,3,3/1/2023 7:59,454.68\n",
    "30,1,3,3/1/2023 7:59,454.68\n",
    "\"\"\"\n",
    "\n",
    "# Create a DataFrame from the CSV data\n",
    "df = pd.read_csv(\"fact_transaction.csv\")\n",
    "\n",
    "# Convert the 'transaction_date' column to ISO 8601 format\n",
    "df['transaction_date'] = pd.to_datetime(df['transaction_date']).dt.strftime('%Y-%m-%dT%H:%M:%S')\n",
    "\n",
    "# Save the updated DataFrame to a new CSV file\n",
    "df.to_csv('updated_transactions.csv', index=False)\n"
   ]
  },
  {
   "cell_type": "code",
   "execution_count": null,
   "metadata": {},
   "outputs": [],
   "source": []
  }
 ],
 "metadata": {
  "kernelspec": {
   "display_name": "fix",
   "language": "python",
   "name": "python3"
  },
  "language_info": {
   "codemirror_mode": {
    "name": "ipython",
    "version": 3
   },
   "file_extension": ".py",
   "mimetype": "text/x-python",
   "name": "python",
   "nbconvert_exporter": "python",
   "pygments_lexer": "ipython3",
   "version": "3.10.9"
  },
  "orig_nbformat": 4
 },
 "nbformat": 4,
 "nbformat_minor": 2
}
