{
 "cells": [
  {
   "cell_type": "code",
   "execution_count": 28,
   "metadata": {},
   "outputs": [],
   "source": [
    "import pandas as pd\n",
    "import requests\n",
    "import random"
   ]
  },
  {
   "cell_type": "code",
   "execution_count": 29,
   "metadata": {},
   "outputs": [
    {
     "data": {
      "text/html": [
       "<div>\n",
       "<style scoped>\n",
       "    .dataframe tbody tr th:only-of-type {\n",
       "        vertical-align: middle;\n",
       "    }\n",
       "\n",
       "    .dataframe tbody tr th {\n",
       "        vertical-align: top;\n",
       "    }\n",
       "\n",
       "    .dataframe thead th {\n",
       "        text-align: right;\n",
       "    }\n",
       "</style>\n",
       "<table border=\"1\" class=\"dataframe\">\n",
       "  <thead>\n",
       "    <tr style=\"text-align: right;\">\n",
       "      <th></th>\n",
       "      <th>account_id</th>\n",
       "      <th>payment_amount</th>\n",
       "      <th>payment_method</th>\n",
       "      <th>payment_date</th>\n",
       "    </tr>\n",
       "  </thead>\n",
       "  <tbody>\n",
       "    <tr>\n",
       "      <th>0</th>\n",
       "      <td>1217</td>\n",
       "      <td>9000.0</td>\n",
       "      <td>Cash Payment</td>\n",
       "      <td>2017-07-25</td>\n",
       "    </tr>\n",
       "    <tr>\n",
       "      <th>1</th>\n",
       "      <td>365</td>\n",
       "      <td>12000.0</td>\n",
       "      <td>Cash Payment</td>\n",
       "      <td>2017-07-25</td>\n",
       "    </tr>\n",
       "    <tr>\n",
       "      <th>2</th>\n",
       "      <td>925</td>\n",
       "      <td>6000.0</td>\n",
       "      <td>Cash Payment</td>\n",
       "      <td>2017-07-25</td>\n",
       "    </tr>\n",
       "    <tr>\n",
       "      <th>3</th>\n",
       "      <td>529</td>\n",
       "      <td>6000.0</td>\n",
       "      <td>Cash Payment</td>\n",
       "      <td>2017-07-25</td>\n",
       "    </tr>\n",
       "    <tr>\n",
       "      <th>4</th>\n",
       "      <td>156</td>\n",
       "      <td>6000.0</td>\n",
       "      <td>Cash Payment</td>\n",
       "      <td>2017-07-25</td>\n",
       "    </tr>\n",
       "  </tbody>\n",
       "</table>\n",
       "</div>"
      ],
      "text/plain": [
       "   account_id  payment_amount payment_method payment_date\n",
       "0        1217          9000.0   Cash Payment   2017-07-25\n",
       "1         365         12000.0   Cash Payment   2017-07-25\n",
       "2         925          6000.0   Cash Payment   2017-07-25\n",
       "3         529          6000.0   Cash Payment   2017-07-25\n",
       "4         156          6000.0   Cash Payment   2017-07-25"
      ]
     },
     "execution_count": 29,
     "metadata": {},
     "output_type": "execute_result"
    }
   ],
   "source": [
    "data = pd.read_csv('/Users/37498/Desktop/MA_Milestone2_group5/ma_group_project/data/isp_data.csv').iloc[:,1:]"
   ]
  },
  {
   "cell_type": "code",
   "execution_count": null,
   "metadata": {},
   "outputs": [],
   "source": [
    "# base_url = \"http://0.0.0.0:8000\"\n",
    "base_url = \"http://127.0.0.1:8000\"\n",
    "# base_url = \"http://192.168.0.1:8000\"\n",
    "\n",
    "unique_customers = data['account_id'].unique()\n",
    "account_to_customer_id = {}\n",
    "\n",
    "for account_id in unique_customers:\n",
    "    # Generating the age and gender for our customers\n",
    "    age = random.randint(20, 70)\n",
    "    gender = random.choice([\"Male\", \"Female\"])\n",
    "\n",
    "    # Insert our customer data into Dim_Customer\n",
    "    customer_data = {\n",
    "        \"age\": age,\n",
    "        \"gender\": gender\n",
    "    }\n",
    "    response = requests.post(f\"{base_url}/customer/\", json=customer_data)\n",
    "    if response.status_code != 200:\n",
    "        print(f\"Failed to insert customer {account_id}. Response: {response.text}\")\n",
    "        continue\n",
    "\n",
    "    customer_id = response.json()['customer_id']\n",
    "    account_to_customer_id[account_id] = customer_id\n",
    "\n",
    "# Finally add customer_id to the dataset\n",
    "data['customer_id'] = data['account_id'].map(account_to_customer_id)"
   ]
  },
  {
   "cell_type": "code",
   "execution_count": null,
   "metadata": {},
   "outputs": [],
   "source": [
    "unique_payment_methods = data['payment_method'].unique()\n",
    "payment_to_payment_id = {}\n",
    "\n",
    "for payment in unique_payment_methods:\n",
    "    # Insert payment method into Dim_Payment_Method\n",
    "    payment_data = {\n",
    "        \"payment_method_name\": payment\n",
    "    }\n",
    "    response = requests.post(f\"{base_url}/payment_method/\", json=payment_data)\n",
    "    if response.status_code != 200:\n",
    "        print(f\"Failed to insert payment method {payment}. Response: {response.text}\")\n",
    "        continue\n",
    "\n",
    "    payment_method_id = response.json()['payment_method_id']\n",
    "    payment_to_payment_id[payment] = payment_method_id\n",
    "    \n",
    "# Add payment_method_id to the dataset\n",
    "data['payment_method_id'] = data['payment_method'].map(payment_to_payment_id)"
   ]
  },
  {
   "cell_type": "code",
   "execution_count": null,
   "metadata": {},
   "outputs": [],
   "source": [
    "# Insert each row into the Fact_Transacation table\n",
    "for index, row in data.iterrows():\n",
    "    transaction_data = {\n",
    "        \"customer_id\": row['customer_id'],\n",
    "        \"payment_method_id\": row['payment_method_id'],\n",
    "        \"transaction_date\": row['payment_date'],\n",
    "        \"amount\": row['payment_amount']\n",
    "    }\n",
    "    response = requests.post(f\"{base_url}/transaction/\", json=transaction_data)\n",
    "    if response.status_code != 200:\n",
    "        print(f\"Failed to insert transaction for row {index}. Response: {response.text}\")"
   ]
  },
  {
   "cell_type": "code",
   "execution_count": null,
   "metadata": {},
   "outputs": [],
   "source": []
  }
 ],
 "metadata": {
  "kernelspec": {
   "display_name": "Python 3 (ipykernel)",
   "language": "python",
   "name": "python3"
  },
  "language_info": {
   "codemirror_mode": {
    "name": "ipython",
    "version": 3
   },
   "file_extension": ".py",
   "mimetype": "text/x-python",
   "name": "python",
   "nbconvert_exporter": "python",
   "pygments_lexer": "ipython3",
   "version": "3.11.6"
  }
 },
 "nbformat": 4,
 "nbformat_minor": 2
}
