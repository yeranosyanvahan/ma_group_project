{
 "cells": [
  {
   "cell_type": "code",
   "execution_count": 3,
   "metadata": {
    "slideshow": {
     "slide_type": "skip"
    }
   },
   "outputs": [],
   "source": [
    "import runpy\n",
    "import uvicorn\n",
    "from threading import Thread"
   ]
  },
  {
   "cell_type": "markdown",
   "metadata": {
    "slideshow": {
     "slide_type": "slide"
    }
   },
   "source": [
    "<font color = Darkslategray size = 6 face = bold> DS223: Marketing Analytics\n",
    "<br>\n",
    "    \n",
    "<font color = Darkslategray size = 5 face = bold> __Project Demo Presentation__\n",
    "<br>\n",
    "    \n",
    "<font color = Darkslategray size = 5 face = bold> Group 5"
   ]
  },
  {
   "cell_type": "markdown",
   "metadata": {
    "slideshow": {
     "slide_type": "subslide"
    }
   },
   "source": [
    "<font color = Darkslategray size = 5 face = bold> __Team__\n",
    "<br>\n",
    "<br>\n",
    "    \n",
    "<font color = Black size = 3 face = bold> Project | Product Manager: __Ani Gumruyan__\n",
    "<br>   \n",
    "<font color = Black size = 3 face = bold> Database Developer: __Hakob Janesian__    \n",
    "<br>\n",
    "<font color = Black size = 3 face = bold> API Developer: __Vahan Yeranosyan__\n",
    "<br>    \n",
    "<font color = Black size = 3 face = bold> Data Analyst: __Aida Martirosyan__\n",
    "<br>    \n",
    "<font color = Black size = 3 face = bold> Data Scientist: __Anna Misakyan__    "
   ]
  },
  {
   "cell_type": "markdown",
   "metadata": {
    "slideshow": {
     "slide_type": "slide"
    }
   },
   "source": [
    "<font color = Darkslategray size = 5 face = bold> __Problem Definition__\n",
    "<br>\n",
    "<br>\n",
    "    \n",
    "<font color = Black size = 4 face = bold> _Keeping the existing customers of the Internet Service Provider company and efficiently managing acquisition costs for new ones._"
   ]
  },
  {
   "cell_type": "markdown",
   "metadata": {
    "slideshow": {
     "slide_type": "subslide"
    }
   },
   "source": [
    "<font color = Darkslategray size = 5 face = bold> __Project Description__\n",
    "<br>\n",
    "<br>\n",
    "    \n",
    "<font color = Black size = 4 face = bold> _The project aims to develop a Python package for predicting a customer's Lifetime Value (CLV) for an Internet Service Provider company._\n",
    "\n",
    "The CLV predictor will help understand the expected revenue from each customer over time, assisting in making informed strategic decisions. This package will make the process easier for Internet service providers, ultimately supporting improved customer-focused services and steady revenue."
   ]
  },
  {
   "cell_type": "markdown",
   "metadata": {
    "slideshow": {
     "slide_type": "slide"
    }
   },
   "source": [
    "<font color = Darkslategray size = 10 face = bold> __SocraCLV__\n",
    "<br> \n",
    "<font color = Black size = 5 face = bold> _“Know Thyself.” – Socrates_"
   ]
  },
  {
   "cell_type": "markdown",
   "metadata": {
    "slideshow": {
     "slide_type": "fragment"
    }
   },
   "source": [
    "<img src=\"docs/socrates-drawing.jpg\" alt=\"Socrates\" style=\"width: 300px;\"/>"
   ]
  },
  {
   "cell_type": "markdown",
   "metadata": {
    "slideshow": {
     "slide_type": "subslide"
    }
   },
   "source": [
    "`!pip install SocraCLV`"
   ]
  },
  {
   "cell_type": "markdown",
   "metadata": {
    "slideshow": {
     "slide_type": "fragment"
    }
   },
   "source": [
    "<font color = Black size = 4 face = bold> \n",
    " \n",
    "The package __\"SocraCLV\"__ is a call for the company to _\"know themselves\"_ in the realm of company-customer dynamics.\n",
    "\n",
    "As the name suggests, the package is not just about analytics but involves a philosophically flavoured approach to understanding and predicting Customer Lifetime Value to gain meaningful insights about the long-term relationships between the company and customers."
   ]
  },
  {
   "cell_type": "markdown",
   "metadata": {
    "slideshow": {
     "slide_type": "slide"
    }
   },
   "source": [
    "<font color = Darkslategray size = 5 face = bold> __Package Functionality__"
   ]
  },
  {
   "cell_type": "markdown",
   "metadata": {
    "slideshow": {
     "slide_type": "subslide"
    }
   },
   "source": [
    "<font color = Darkslategray size = 5 face = bold> __I. Database SetUp__\n",
    "<br> \n",
    "\n",
    "<font color = Black size = 4 face = bold> The full spectrum of package functionality starts with _creating the database schema, i.e tables in the system._"
   ]
  },
  {
   "cell_type": "code",
   "execution_count": 1,
   "metadata": {
    "slideshow": {
     "slide_type": "fragment"
    }
   },
   "outputs": [],
   "source": [
    "runpy.run_module(\"clv.db.schema\")"
   ]
  },
  {
   "cell_type": "markdown",
   "metadata": {
    "slideshow": {
     "slide_type": "subslide"
    }
   },
   "source": [
    "<img src=\"docs/ERD.png\" alt=\"ERD\" />"
   ]
  },
  {
   "cell_type": "markdown",
   "metadata": {
    "slideshow": {
     "slide_type": "subslide"
    }
   },
   "source": [
    "<font color = Darkslategray size = 5 face = bold> __II. Data Transition__\n",
    "<br> \n",
    "\n",
    "<font color = Black size = 4 face = bold> The follow-up action is _loading the data (generated/existing) into the initialized database._"
   ]
  },
  {
   "cell_type": "code",
   "execution_count": 2,
   "metadata": {
    "slideshow": {
     "slide_type": "fragment"
    }
   },
   "outputs": [],
   "source": [
    "!python basic_clv.py"
   ]
  },
  {
   "cell_type": "markdown",
   "metadata": {
    "slideshow": {
     "slide_type": "subslide"
    }
   },
   "source": [
    "<font color = Darkslategray size = 5 face = bold> __III. CLV__\n",
    "<br> \n",
    "\n",
    "<font color = Black size = 4 face = bold> The next and the major set of actions is _calculating CLV scores and loading into the database._"
   ]
  },
  {
   "cell_type": "code",
   "execution_count": 3,
   "metadata": {
    "slideshow": {
     "slide_type": "fragment"
    }
   },
   "outputs": [],
   "source": [
    "!python calculate_clv.py"
   ]
  },
  {
   "cell_type": "markdown",
   "metadata": {
    "slideshow": {
     "slide_type": "subslide"
    }
   },
   "source": [
    "<font color = Black size = 4 face = bold> \n",
    "\n",
    "$$CLV = MM\\sum\\limits _{i=1}^{t}\\frac{p_i}{(1 + \\frac{r}{12})^{i-1}}$$"
   ]
  },
  {
   "cell_type": "markdown",
   "metadata": {
    "slideshow": {
     "slide_type": "fragment"
    }
   },
   "source": [
    "<font color = Black size = 4 face = bold> \n",
    "    \n",
    "__MM__: average monthly margin\n",
    "    \n",
    "__r__: discount rate\n",
    "    \n",
    "__p__: survival probability in period i, based on parametric model __AFT(Accelerated Failure Time)__  "
   ]
  },
  {
   "cell_type": "markdown",
   "metadata": {
    "slideshow": {
     "slide_type": "subslide"
    }
   },
   "source": [
    "<font color = Darkslategray size = 5 face = bold> __IV. API Connection__\n",
    "<br> \n",
    "\n",
    "<font color = Black size = 4 face = bold> The follow-up action is _connecting to and activating the API server._"
   ]
  },
  {
   "cell_type": "code",
   "execution_count": 4,
   "metadata": {
    "slideshow": {
     "slide_type": "fragment"
    }
   },
   "outputs": [],
   "source": [
    "def run():\n",
    "    from clv.api.fast import app\n",
    "    uvicorn.run(app, host = \"0.0.0.0\", port = 8000)\n",
    "\n",
    "# Running the Uvicorn server in a new thread\n",
    "thread = Thread(target = run)\n",
    "thread.start()"
   ]
  },
  {
   "cell_type": "markdown",
   "metadata": {
    "slideshow": {
     "slide_type": "slide"
    }
   },
   "source": [
    "<font color = Darkslategray size = 5 face = bold> __Application Scenarios__"
   ]
  },
  {
   "cell_type": "markdown",
   "metadata": {
    "slideshow": {
     "slide_type": "subslide"
    }
   },
   "source": [
    "<font color = Black size = 4 face = bold>\n",
    "\n",
    "The CLV predictor will be used to segment customers into four categories.\n",
    "    \n",
    "<font color = Gray size = 4 face = bold>__Lost Cause__ : <font color = Black size = 4 face = bold> CLV score below first quantile\n",
    "    \n",
    "<font color = Crimson size = 4 face = bold>__Free Rider__ : <font color = Black size = 4 face = bold> CLV score between first and second quantiles\n",
    " \n",
    "<font color = Purple size = 4 face = bold>__Vulnerable__ : <font color = Black size = 4 face = bold> CLV score between second and third quantiles\n",
    "    \n",
    "<font color = GoldenRod size = 4 face = bold>__Star__ : <font color = Black size = 4 face = bold> CLV score above third quantile"
   ]
  },
  {
   "cell_type": "markdown",
   "metadata": {
    "slideshow": {
     "slide_type": "subslide"
    }
   },
   "source": [
    "<font color = Black size = 4 face = bold> __Application Scenario 1: Enhancing customer engagement strategies__ \n",
    "    \n",
    "<font color = Gray size = 4 face = bold>__Lost Cause__ : <font color = Black size = 4 face = bold> The company will focus on providing basic automated support and affordable plans to prevent further losses.\n",
    "    \n",
    "<font color = Crimson size = 4 face = bold>__Free Rider__ : <font color = Black size = 4 face = bold> The company will provide targeted promotions and opportunities for upselling, encouraging these customers to increase their engagement.\n",
    " \n",
    "<font color = Purple size = 4 face = bold>__Vulnerable__ : <font color = Black size = 4 face = bold> The company can introduce loyalty programs with discounts to ensure these customers stay engaged and continue to be valuable to the company.\n",
    "    \n",
    "<font color = GoldenRod size = 4 face = bold>__Star__ : <font color = Black size = 4 face = bold> The company will assign dedicated account managers, and access to premium customer support, which will maximize revenue generated from these customers.    "
   ]
  },
  {
   "cell_type": "markdown",
   "metadata": {
    "slideshow": {
     "slide_type": "subslide"
    }
   },
   "source": [
    "<font color = Black size = 4 face = bold> __Application Scenario 2: Introducing efficient marketing budget allocation__ \n",
    "    \n",
    "<font color = Gray size = 4 face = bold>__Lost Cause__ : <font color = Black size = 4 face = bold> The company will direct minimal marketing efforts toward these customers, with a focus on basic retention messages and cost-effective plan promotions.\n",
    "    \n",
    "<font color = Crimson size = 4 face = bold>__Free Rider__ : <font color = Black size = 4 face = bold> The company will start target marketing campaigns for these customers, showcasing upsell opportunities and promotions to drive increased value.\n",
    " \n",
    "<font color = Purple size = 4 face = bold>__Vulnerable__ : <font color = Black size = 4 face = bold> The company will allocate marketing resources to nurture these customers with emphasize on retention and loyalty-building campaigns.\n",
    "    \n",
    "<font color = GoldenRod size = 4 face = bold>__Star__ : <font color = Black size = 4 face = bold> The company will introduce personalized marketing campaigns for these customers, highlighting premium services and loyalty rewards to reinforce their value."
   ]
  },
  {
   "cell_type": "markdown",
   "metadata": {
    "slideshow": {
     "slide_type": "subslide"
    }
   },
   "source": [
    "<font color = Darkslategray size = 5 face = bold> ___Success Assessment___\n",
    "<br> \n",
    "\n",
    "<font color = Black size = 4 face = bold> _The additional action projected in the API scope includes assessing the success of application scenarios after their launch._"
   ]
  },
  {
   "cell_type": "markdown",
   "metadata": {
    "slideshow": {
     "slide_type": "slide"
    }
   },
   "source": [
    "<font color = Darkslategray size = 6 face = bold> Thank you for your attention!\n",
    "\n",
    "    \n",
    "<font color = Black size = 5 face = bold> Let's give the floor to our API developer who will present the technical side of the project demo :)"
   ]
  }
 ],
 "metadata": {
  "celltoolbar": "Slideshow",
  "kernelspec": {
   "display_name": "Python 3",
   "language": "python",
   "name": "python3"
  },
  "language_info": {
   "codemirror_mode": {
    "name": "ipython",
    "version": 3
   },
   "file_extension": ".py",
   "mimetype": "text/x-python",
   "name": "python",
   "nbconvert_exporter": "python",
   "pygments_lexer": "ipython3",
   "version": "3.8.8"
  }
 },
 "nbformat": 4,
 "nbformat_minor": 2
}
