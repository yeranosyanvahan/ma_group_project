{
 "cells": [
  {
   "cell_type": "code",
   "execution_count": 9,
   "metadata": {},
   "outputs": [],
   "source": [
    "import pandas as pd"
   ]
  },
  {
   "cell_type": "code",
   "execution_count": 10,
   "metadata": {},
   "outputs": [],
   "source": [
    "data = pd.read_csv('isp_data.csv').iloc[:,1:]"
   ]
  },
  {
   "cell_type": "code",
   "execution_count": 22,
   "metadata": {},
   "outputs": [],
   "source": [
    "import pandas as pd\n",
    "import requests\n",
    "import random\n",
    "\n",
    "base_url = \"http://0.0.0.0:8000\"\n",
    "\n",
    "# Identify unique customers\n",
    "unique_customers = data['account_id'].unique()\n",
    "\n",
    "\n",
    "# Dictionary to store the mapping between account_id and customer_id\n",
    "account_to_customer_id = {}\n",
    "\n",
    "for account_id in unique_customers:\n",
    "    # Generate age and gender\n",
    "    age = random.randint(20, 70)\n",
    "    gender = random.choice([\"Male\", \"Female\"])\n",
    "\n",
    "    # Insert customer into Dim_Customer\n",
    "    customer_data = {\n",
    "        \"age\": age,\n",
    "        \"gender\": gender\n",
    "    }\n",
    "    response = requests.post(f\"{base_url}/customer/\", json=customer_data)\n",
    "    if response.status_code != 200:\n",
    "        print(f\"Failed to insert customer {account_id}. Response: {response.text}\")\n",
    "        continue\n",
    "\n",
    "    customer_id = response.json()['customer_id']\n",
    "    \n",
    "    # Store the mapping\n",
    "    account_to_customer_id[account_id] = customer_id\n",
    "\n",
    "# Add customer_id to the dataset\n",
    "data['customer_id'] = data['account_id'].map(account_to_customer_id)\n"
   ]
  },
  {
   "cell_type": "code",
   "execution_count": 25,
   "metadata": {},
   "outputs": [],
   "source": [
    "# Identify unique payment methods\n",
    "unique_payment_methods = data['payment_method'].unique()\n",
    "\n",
    "# Dictionary to store the mapping between payment_method and payment_method_id\n",
    "payment_to_payment_id = {}\n",
    "\n",
    "for payment in unique_payment_methods:\n",
    "    # Insert payment method into Dim_Payment_Method\n",
    "    payment_data = {\n",
    "        \"payment_method_name\": payment\n",
    "    }\n",
    "    response = requests.post(f\"{base_url}/payment_method/\", json=payment_data)\n",
    "    if response.status_code != 200:\n",
    "        print(f\"Failed to insert payment method {payment}. Response: {response.text}\")\n",
    "        continue\n",
    "\n",
    "    payment_method_id = response.json()['payment_method_id']\n",
    "    \n",
    "    # Store the mapping\n",
    "    payment_to_payment_id[payment] = payment_method_id\n",
    "\n",
    "# Add payment_method_id to the dataset\n",
    "data['payment_method_id'] = data['payment_method'].map(payment_to_payment_id)\n"
   ]
  },
  {
   "cell_type": "code",
   "execution_count": 28,
   "metadata": {},
   "outputs": [],
   "source": [
    "# Insert each row into the Fact_Transacation table\n",
    "for index, row in data.iterrows():\n",
    "    transaction_data = {\n",
    "        \"customer_id\": row['customer_id'],\n",
    "        \"payment_method_id\": row['payment_method_id'],\n",
    "        \"transaction_date\": row['payment_date'],\n",
    "        \"amount\": row['payment_amount']\n",
    "    }\n",
    "    \n",
    "    response = requests.post(f\"{base_url}/transaction/\", json=transaction_data)\n",
    "    if response.status_code != 200:\n",
    "        print(f\"Failed to insert transaction for row {index}. Response: {response.text}\")"
   ]
  },
  {
   "cell_type": "code",
   "execution_count": null,
   "metadata": {},
   "outputs": [],
   "source": []
  },
  {
   "cell_type": "code",
   "execution_count": null,
   "metadata": {},
   "outputs": [],
   "source": []
  },
  {
   "cell_type": "code",
   "execution_count": null,
   "metadata": {},
   "outputs": [],
   "source": []
  },
  {
   "cell_type": "code",
   "execution_count": null,
   "metadata": {},
   "outputs": [],
   "source": []
  },
  {
   "cell_type": "code",
   "execution_count": null,
   "metadata": {},
   "outputs": [],
   "source": []
  }
 ],
 "metadata": {
  "kernelspec": {
   "display_name": "venv",
   "language": "python",
   "name": "python3"
  },
  "language_info": {
   "codemirror_mode": {
    "name": "ipython",
    "version": 3
   },
   "file_extension": ".py",
   "mimetype": "text/x-python",
   "name": "python",
   "nbconvert_exporter": "python",
   "pygments_lexer": "ipython3",
   "version": "3.11.6"
  }
 },
 "nbformat": 4,
 "nbformat_minor": 2
}
