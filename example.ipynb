{
 "cells": [
  {
   "cell_type": "code",
   "execution_count": 3,
   "metadata": {},
   "outputs": [],
   "source": [
    "import runpy\n",
    "import uvicorn\n",
    "from threading import Thread\n"
   ]
  },
  {
   "cell_type": "markdown",
   "metadata": {},
   "source": [
    "Lets get started with creating the tables in internet_service_provider.db"
   ]
  },
  {
   "cell_type": "markdown",
   "metadata": {},
   "source": [
    "![hustlin_erd](docs/ERD.png)"
   ]
  },
  {
   "cell_type": "code",
   "execution_count": 4,
   "metadata": {},
   "outputs": [
    {
     "name": "stderr",
     "output_type": "stream",
     "text": [
      "/Users/075072/anaconda3/lib/python3.10/runpy.py:126: RuntimeWarning: 'clv.db.schema' found in sys.modules after import of package 'clv.db', but prior to execution of 'clv.db.schema'; this may result in unpredictable behaviour\n",
      "  warn(RuntimeWarning(msg))\n"
     ]
    },
    {
     "data": {
      "text/plain": [
       "{'__name__': 'clv.db.schema',\n",
       " '__file__': '/Users/075072/Desktop/ma_group_project/clv/db/schema.py',\n",
       " '__cached__': '/Users/075072/Desktop/ma_group_project/clv/db/__pycache__/schema.cpython-310.pyc',\n",
       " '__doc__': None,\n",
       " '__loader__': <_frozen_importlib_external.SourceFileLoader at 0x126a5b910>,\n",
       " '__package__': 'clv.db',\n",
       " '__spec__': ModuleSpec(name='clv.db.schema', loader=<_frozen_importlib_external.SourceFileLoader object at 0x126a5b910>, origin='/Users/075072/Desktop/ma_group_project/clv/db/schema.py'),\n",
       " '__builtins__': {'__name__': 'builtins',\n",
       "  '__doc__': \"Built-in functions, exceptions, and other objects.\\n\\nNoteworthy: None is the `nil' object; Ellipsis represents `...' in slices.\",\n",
       "  '__package__': '',\n",
       "  '__loader__': _frozen_importlib.BuiltinImporter,\n",
       "  '__spec__': ModuleSpec(name='builtins', loader=<class '_frozen_importlib.BuiltinImporter'>, origin='built-in'),\n",
       "  '__build_class__': <function __build_class__>,\n",
       "  '__import__': <function __import__>,\n",
       "  'abs': <function abs(x, /)>,\n",
       "  'all': <function all(iterable, /)>,\n",
       "  'any': <function any(iterable, /)>,\n",
       "  'ascii': <function ascii(obj, /)>,\n",
       "  'bin': <function bin(number, /)>,\n",
       "  'breakpoint': <function breakpoint>,\n",
       "  'callable': <function callable(obj, /)>,\n",
       "  'chr': <function chr(i, /)>,\n",
       "  'compile': <function compile(source, filename, mode, flags=0, dont_inherit=False, optimize=-1, *, _feature_version=-1)>,\n",
       "  'delattr': <function delattr(obj, name, /)>,\n",
       "  'dir': <function dir>,\n",
       "  'divmod': <function divmod(x, y, /)>,\n",
       "  'eval': <function eval(source, globals=None, locals=None, /)>,\n",
       "  'exec': <function exec(source, globals=None, locals=None, /)>,\n",
       "  'format': <function format(value, format_spec='', /)>,\n",
       "  'getattr': <function getattr>,\n",
       "  'globals': <function globals()>,\n",
       "  'hasattr': <function hasattr(obj, name, /)>,\n",
       "  'hash': <function hash(obj, /)>,\n",
       "  'hex': <function hex(number, /)>,\n",
       "  'id': <function id(obj, /)>,\n",
       "  'input': <bound method Kernel.raw_input of <ipykernel.ipkernel.IPythonKernel object at 0x120189f90>>,\n",
       "  'isinstance': <function isinstance(obj, class_or_tuple, /)>,\n",
       "  'issubclass': <function issubclass(cls, class_or_tuple, /)>,\n",
       "  'iter': <function iter>,\n",
       "  'aiter': <function aiter(async_iterable, /)>,\n",
       "  'len': <function len(obj, /)>,\n",
       "  'locals': <function locals()>,\n",
       "  'max': <function max>,\n",
       "  'min': <function min>,\n",
       "  'next': <function next>,\n",
       "  'anext': <function anext>,\n",
       "  'oct': <function oct(number, /)>,\n",
       "  'ord': <function ord(c, /)>,\n",
       "  'pow': <function pow(base, exp, mod=None)>,\n",
       "  'print': <function print>,\n",
       "  'repr': <function repr(obj, /)>,\n",
       "  'round': <function round(number, ndigits=None)>,\n",
       "  'setattr': <function setattr(obj, name, value, /)>,\n",
       "  'sorted': <function sorted(iterable, /, *, key=None, reverse=False)>,\n",
       "  'sum': <function sum(iterable, /, start=0)>,\n",
       "  'vars': <function vars>,\n",
       "  'None': None,\n",
       "  'Ellipsis': Ellipsis,\n",
       "  'NotImplemented': NotImplemented,\n",
       "  'False': False,\n",
       "  'True': True,\n",
       "  'bool': bool,\n",
       "  'memoryview': memoryview,\n",
       "  'bytearray': bytearray,\n",
       "  'bytes': bytes,\n",
       "  'classmethod': classmethod,\n",
       "  'complex': complex,\n",
       "  'dict': dict,\n",
       "  'enumerate': enumerate,\n",
       "  'filter': filter,\n",
       "  'float': float,\n",
       "  'frozenset': frozenset,\n",
       "  'property': property,\n",
       "  'int': int,\n",
       "  'list': list,\n",
       "  'map': map,\n",
       "  'object': object,\n",
       "  'range': range,\n",
       "  'reversed': reversed,\n",
       "  'set': set,\n",
       "  'slice': slice,\n",
       "  'staticmethod': staticmethod,\n",
       "  'str': str,\n",
       "  'super': super,\n",
       "  'tuple': tuple,\n",
       "  'type': type,\n",
       "  'zip': zip,\n",
       "  '__debug__': True,\n",
       "  'BaseException': BaseException,\n",
       "  'Exception': Exception,\n",
       "  'TypeError': TypeError,\n",
       "  'StopAsyncIteration': StopAsyncIteration,\n",
       "  'StopIteration': StopIteration,\n",
       "  'GeneratorExit': GeneratorExit,\n",
       "  'SystemExit': SystemExit,\n",
       "  'KeyboardInterrupt': KeyboardInterrupt,\n",
       "  'ImportError': ImportError,\n",
       "  'ModuleNotFoundError': ModuleNotFoundError,\n",
       "  'OSError': OSError,\n",
       "  'EnvironmentError': OSError,\n",
       "  'IOError': OSError,\n",
       "  'EOFError': EOFError,\n",
       "  'RuntimeError': RuntimeError,\n",
       "  'RecursionError': RecursionError,\n",
       "  'NotImplementedError': NotImplementedError,\n",
       "  'NameError': NameError,\n",
       "  'UnboundLocalError': UnboundLocalError,\n",
       "  'AttributeError': AttributeError,\n",
       "  'SyntaxError': SyntaxError,\n",
       "  'IndentationError': IndentationError,\n",
       "  'TabError': TabError,\n",
       "  'LookupError': LookupError,\n",
       "  'IndexError': IndexError,\n",
       "  'KeyError': KeyError,\n",
       "  'ValueError': ValueError,\n",
       "  'UnicodeError': UnicodeError,\n",
       "  'UnicodeEncodeError': UnicodeEncodeError,\n",
       "  'UnicodeDecodeError': UnicodeDecodeError,\n",
       "  'UnicodeTranslateError': UnicodeTranslateError,\n",
       "  'AssertionError': AssertionError,\n",
       "  'ArithmeticError': ArithmeticError,\n",
       "  'FloatingPointError': FloatingPointError,\n",
       "  'OverflowError': OverflowError,\n",
       "  'ZeroDivisionError': ZeroDivisionError,\n",
       "  'SystemError': SystemError,\n",
       "  'ReferenceError': ReferenceError,\n",
       "  'MemoryError': MemoryError,\n",
       "  'BufferError': BufferError,\n",
       "  'Warning': Warning,\n",
       "  'UserWarning': UserWarning,\n",
       "  'EncodingWarning': EncodingWarning,\n",
       "  'DeprecationWarning': DeprecationWarning,\n",
       "  'PendingDeprecationWarning': PendingDeprecationWarning,\n",
       "  'SyntaxWarning': SyntaxWarning,\n",
       "  'RuntimeWarning': RuntimeWarning,\n",
       "  'FutureWarning': FutureWarning,\n",
       "  'ImportWarning': ImportWarning,\n",
       "  'UnicodeWarning': UnicodeWarning,\n",
       "  'BytesWarning': BytesWarning,\n",
       "  'ResourceWarning': ResourceWarning,\n",
       "  'ConnectionError': ConnectionError,\n",
       "  'BlockingIOError': BlockingIOError,\n",
       "  'BrokenPipeError': BrokenPipeError,\n",
       "  'ChildProcessError': ChildProcessError,\n",
       "  'ConnectionAbortedError': ConnectionAbortedError,\n",
       "  'ConnectionRefusedError': ConnectionRefusedError,\n",
       "  'ConnectionResetError': ConnectionResetError,\n",
       "  'FileExistsError': FileExistsError,\n",
       "  'FileNotFoundError': FileNotFoundError,\n",
       "  'IsADirectoryError': IsADirectoryError,\n",
       "  'NotADirectoryError': NotADirectoryError,\n",
       "  'InterruptedError': InterruptedError,\n",
       "  'PermissionError': PermissionError,\n",
       "  'ProcessLookupError': ProcessLookupError,\n",
       "  'TimeoutError': TimeoutError,\n",
       "  'open': <function io.open(file, mode='r', buffering=-1, encoding=None, errors=None, newline=None, closefd=True, opener=None)>,\n",
       "  'copyright': Copyright (c) 2001-2022 Python Software Foundation.\n",
       "  All Rights Reserved.\n",
       "  \n",
       "  Copyright (c) 2000 BeOpen.com.\n",
       "  All Rights Reserved.\n",
       "  \n",
       "  Copyright (c) 1995-2001 Corporation for National Research Initiatives.\n",
       "  All Rights Reserved.\n",
       "  \n",
       "  Copyright (c) 1991-1995 Stichting Mathematisch Centrum, Amsterdam.\n",
       "  All Rights Reserved.,\n",
       "  'credits':     Thanks to CWI, CNRI, BeOpen.com, Zope Corporation and a cast of thousands\n",
       "      for supporting Python development.  See www.python.org for more information.,\n",
       "  'license': Type license() to see the full license text,\n",
       "  'help': Type help() for interactive help, or help(object) for help about object.,\n",
       "  'execfile': <function _pydev_bundle._pydev_execfile.execfile(file, glob=None, loc=None)>,\n",
       "  'runfile': <function _pydev_bundle.pydev_umd.runfile(filename, args=None, wdir=None, namespace=None)>,\n",
       "  '__IPYTHON__': True,\n",
       "  'display': <function IPython.core.display_functions.display(*objs, include=None, exclude=None, metadata=None, transient=None, display_id=None, raw=False, clear=False, **kwargs)>,\n",
       "  '__pybind11_internals_v4_clang_libcpp_cxxabi1002__': <capsule object NULL at 0x173779cb0>,\n",
       "  'get_ipython': <bound method InteractiveShell.get_ipython of <ipykernel.zmqshell.ZMQInteractiveShell object at 0x12018a440>>},\n",
       " 'logging': <module 'logging' from '/Users/075072/anaconda3/lib/python3.10/logging/__init__.py'>,\n",
       " 'os': <module 'os' from '/Users/075072/anaconda3/lib/python3.10/os.py'>,\n",
       " 'CustomFormatter': clv.logger.logger.CustomFormatter,\n",
       " 'logger': <Logger schema.py (DEBUG)>,\n",
       " 'ch': <StreamHandler stderr (DEBUG)>,\n",
       " 'create_engine': <function sqlalchemy.engine.create.create_engine(url: 'Union[str, _url.URL]', **kwargs: 'Any') -> 'Engine'>,\n",
       " 'Column': sqlalchemy.sql.schema.Column,\n",
       " 'Integer': sqlalchemy.sql.sqltypes.Integer,\n",
       " 'String': sqlalchemy.sql.sqltypes.String,\n",
       " 'Float': sqlalchemy.sql.sqltypes.Float,\n",
       " 'DateTime': sqlalchemy.sql.sqltypes.DateTime,\n",
       " 'ForeignKey': sqlalchemy.sql.schema.ForeignKey,\n",
       " 'Boolean': sqlalchemy.sql.sqltypes.Boolean,\n",
       " 'Date': sqlalchemy.sql.sqltypes.Date,\n",
       " 'declarative_base': <function sqlalchemy.ext.declarative.declarative_base(*arg, **kw)>,\n",
       " 'sessionmaker': sqlalchemy.orm.session.sessionmaker,\n",
       " 'relationship': <function sqlalchemy.orm._orm_constructors.relationship(argument: 'Optional[_RelationshipArgumentType[Any]]' = None, secondary: 'Optional[_RelationshipSecondaryArgument]' = None, *, uselist: 'Optional[bool]' = None, collection_class: 'Optional[Union[Type[Collection[Any]], Callable[[], Collection[Any]]]]' = None, primaryjoin: 'Optional[_RelationshipJoinConditionArgument]' = None, secondaryjoin: 'Optional[_RelationshipJoinConditionArgument]' = None, back_populates: 'Optional[str]' = None, order_by: '_ORMOrderByArgument' = False, backref: 'Optional[ORMBackrefArgument]' = None, overlaps: 'Optional[str]' = None, post_update: 'bool' = False, cascade: 'str' = 'save-update, merge', viewonly: 'bool' = False, init: 'Union[_NoArg, bool]' = _NoArg.NO_ARG, repr: 'Union[_NoArg, bool]' = _NoArg.NO_ARG, default: 'Union[_NoArg, _T]' = _NoArg.NO_ARG, default_factory: 'Union[_NoArg, Callable[[], _T]]' = _NoArg.NO_ARG, compare: 'Union[_NoArg, bool]' = _NoArg.NO_ARG, kw_only: 'Union[_NoArg, bool]' = _NoArg.NO_ARG, lazy: '_LazyLoadArgumentType' = 'select', passive_deletes: \"Union[Literal['all'], bool]\" = False, passive_updates: 'bool' = True, active_history: 'bool' = False, enable_typechecks: 'bool' = True, foreign_keys: 'Optional[_ORMColCollectionArgument]' = None, remote_side: 'Optional[_ORMColCollectionArgument]' = None, join_depth: 'Optional[int]' = None, comparator_factory: 'Optional[Type[RelationshipProperty.Comparator[Any]]]' = None, single_parent: 'bool' = False, innerjoin: 'bool' = False, distinct_target_key: 'Optional[bool]' = None, load_on_pending: 'bool' = False, query_class: 'Optional[Type[Query[Any]]]' = None, info: 'Optional[_InfoType]' = None, omit_join: 'Literal[None, False]' = None, sync_backref: 'Optional[bool]' = None, **kw: 'Any') -> 'Relationship[Any]'>,\n",
       " 'engine': Engine(sqlite:///internet_service_provider.db),\n",
       " 'SessionLocal': sessionmaker(class_='Session', autocommit=False, bind=Engine(sqlite:///internet_service_provider.db), autoflush=False, expire_on_commit=True),\n",
       " '__warningregistry__': {'version': 140},\n",
       " 'Base': sqlalchemy.orm.decl_api.Base,\n",
       " 'Dim_Payment_Method': clv.db.schema.Dim_Payment_Method,\n",
       " 'Dim_Customer': clv.db.schema.Dim_Customer,\n",
       " 'Fact_Transacation': clv.db.schema.Fact_Transacation,\n",
       " 'CLV_Prediction': clv.db.schema.CLV_Prediction}"
      ]
     },
     "execution_count": 4,
     "metadata": {},
     "output_type": "execute_result"
    }
   ],
   "source": [
    "runpy.run_module(\"clv.db.schema\")"
   ]
  },
  {
   "cell_type": "markdown",
   "metadata": {},
   "source": [
    "Load the generated data into internet_service_provider.db"
   ]
  },
  {
   "cell_type": "code",
   "execution_count": 5,
   "metadata": {},
   "outputs": [
    {
     "name": "stdout",
     "output_type": "stream",
     "text": [
      "\u001b[38;5;183m2023-12-02 18:15:32,046 - sql_interactions.py - get_table_columns - INFO - (the list of columns: ['transaction_id', 'customer_id', 'payment_method_id', 'transaction_date', 'amount']) - line: 83\u001b[0m\n",
      "\u001b[38;5;183m2023-12-02 18:15:32,047 - sql_interactions.py - close_cnxn - INFO - (commiting the changes) - line: 41\u001b[0m\n",
      "\u001b[38;5;183m2023-12-02 18:15:32,047 - sql_interactions.py - close_cnxn - INFO - (the connection has been closed) - line: 44\u001b[0m\n",
      "\u001b[38;5;183m2023-12-02 18:15:32,047 - sql_interactions.py - get_table_columns - INFO - (the list of columns: ['customer_id', 'age', 'gender', 'first_transaction_date', 'last_transaction_date', 'survival_time', 'event_observed']) - line: 83\u001b[0m\n",
      "\u001b[38;5;183m2023-12-02 18:15:32,048 - sql_interactions.py - close_cnxn - INFO - (commiting the changes) - line: 41\u001b[0m\n",
      "\u001b[38;5;183m2023-12-02 18:15:32,048 - sql_interactions.py - close_cnxn - INFO - (the connection has been closed) - line: 44\u001b[0m\n",
      "\u001b[38;5;183m2023-12-02 18:15:32,052 - sql_interactions.py - insert_many - INFO - (BEFORE the column intersection: ['customer_id', 'age', 'gender', 'first_transaction_date', 'last_transaction_date', 'survival_time', 'event_observed']) - line: 134\u001b[0m\n",
      "\u001b[38;5;183m2023-12-02 18:15:32,052 - sql_interactions.py - get_table_columns - INFO - (the list of columns: ['customer_id', 'age', 'gender', 'first_transaction_date', 'last_transaction_date', 'survival_time', 'event_observed']) - line: 83\u001b[0m\n",
      "colsL ['customer_id', 'age', 'gender', 'first_transaction_date', 'last_transaction_date', 'survival_time', 'event_observed']\n",
      "['customer_id', 'age', 'gender', 'first_transaction_date', 'last_transaction_date', 'survival_time', 'event_observed']\n",
      "\u001b[38;5;183m2023-12-02 18:15:32,052 - sql_interactions.py - insert_many - INFO - (AFTER the column intersection: ['customer_id', 'gender', 'last_transaction_date', 'age', 'survival_time', 'first_transaction_date', 'event_observed']) - line: 139\u001b[0m\n",
      "colsL ['customer_id', 'gender', 'last_transaction_date', 'age', 'survival_time', 'first_transaction_date', 'event_observed']\n",
      "\u001b[38;5;183m2023-12-02 18:15:32,052 - sql_interactions.py - insert_many - INFO - (the shape of the table which is going to be imported (11, 7)) - line: 145\u001b[0m\n",
      "\u001b[38;5;183m2023-12-02 18:15:32,052 - sql_interactions.py - insert_many - INFO - (insert structure: colnames: customer_id, gender, last_transaction_date, age, survival_time, first_transaction_date, event_observed params: ?, ?, ?, ?, ?, ?, ?) - line: 155\u001b[0m\n",
      "\u001b[38;5;183m2023-12-02 18:15:32,052 - sql_interactions.py - insert_many - INFO - ((0, 'Female', '2022-09-06 17:31:34.590844', 79, 468, '2020-06-23 23:36:30.665737', True)) - line: 156\u001b[0m\n",
      "\u001b[38;5;183m2023-12-02 18:15:32,052 - sql_interactions.py - insert_many - INFO - (QUERY: INSERT INTO  dim_customer (customer_id, gender, last_transaction_date, age, survival_time, first_transaction_date, event_observed) VALUES (?, ?, ?, ?, ?, ?, ?);) - line: 159\u001b[0m\n",
      "Traceback (most recent call last):\n",
      "  File \"/Users/075072/Desktop/ma_group_project/basic_clv.py\", line 11, in <module>\n",
      "    customer_handler.insert_many(customer_data)\n",
      "  File \"/Users/075072/Desktop/ma_group_project/clv/db/sql_interactions.py\", line 161, in insert_many\n",
      "    self.cursor.executemany(query, values)\n",
      "sqlite3.IntegrityError: UNIQUE constraint failed: dim_customer.customer_id\n"
     ]
    }
   ],
   "source": [
    "!python basic_clv.py"
   ]
  },
  {
   "cell_type": "markdown",
   "metadata": {},
   "source": [
    "Calculate CLV and load the clv into the database"
   ]
  },
  {
   "cell_type": "code",
   "execution_count": 6,
   "metadata": {},
   "outputs": [
    {
     "name": "stdout",
     "output_type": "stream",
     "text": [
      "\u001b[38;5;183m2023-12-02 18:15:34,128 - sql_interactions.py - get_table_columns - INFO - (the list of columns: ['transaction_id', 'customer_id', 'payment_method_id', 'transaction_date', 'amount']) - line: 83\u001b[0m\n",
      "\u001b[38;5;183m2023-12-02 18:15:34,129 - sql_interactions.py - close_cnxn - INFO - (commiting the changes) - line: 41\u001b[0m\n",
      "\u001b[38;5;183m2023-12-02 18:15:34,129 - sql_interactions.py - close_cnxn - INFO - (the connection has been closed) - line: 44\u001b[0m\n",
      "\u001b[38;5;183m2023-12-02 18:15:34,130 - sql_interactions.py - get_table_columns - INFO - (the list of columns: ['customer_id', 'age', 'gender', 'first_transaction_date', 'last_transaction_date', 'survival_time', 'event_observed']) - line: 83\u001b[0m\n",
      "\u001b[38;5;183m2023-12-02 18:15:34,130 - sql_interactions.py - close_cnxn - INFO - (commiting the changes) - line: 41\u001b[0m\n",
      "\u001b[38;5;183m2023-12-02 18:15:34,130 - sql_interactions.py - close_cnxn - INFO - (the connection has been closed) - line: 44\u001b[0m\n",
      "\u001b[38;5;183m2023-12-02 18:15:34,133 - sql_interactions.py - get_table_columns - INFO - (the list of columns: ['customer_id', 'age', 'gender', 'first_transaction_date', 'last_transaction_date', 'survival_time', 'event_observed']) - line: 83\u001b[0m\n",
      "\u001b[38;5;183m2023-12-02 18:15:34,133 - sql_interactions.py - close_cnxn - INFO - (commiting the changes) - line: 41\u001b[0m\n",
      "\u001b[38;5;183m2023-12-02 18:15:34,133 - sql_interactions.py - close_cnxn - INFO - (the connection has been closed) - line: 44\u001b[0m\n",
      "\u001b[38;5;183m2023-12-02 18:15:34,188 - sql_interactions.py - insert_many - INFO - (BEFORE the column intersection: ['prediction_id', 'clv', 'customer_id', 'predicted_customer_type']) - line: 134\u001b[0m\n",
      "\u001b[38;5;183m2023-12-02 18:15:34,188 - sql_interactions.py - get_table_columns - INFO - (the list of columns: ['prediction_id', 'customer_id', 'clv', 'predicted_customer_type', 'is_campaign1_success', 'is_campaign2_success']) - line: 83\u001b[0m\n",
      "colsL ['prediction_id', 'clv', 'customer_id', 'predicted_customer_type']\n",
      "['prediction_id', 'customer_id', 'clv', 'predicted_customer_type', 'is_campaign1_success', 'is_campaign2_success']\n",
      "\u001b[38;5;183m2023-12-02 18:15:34,188 - sql_interactions.py - insert_many - INFO - (AFTER the column intersection: ['prediction_id', 'customer_id', 'predicted_customer_type', 'clv']) - line: 139\u001b[0m\n",
      "colsL ['prediction_id', 'customer_id', 'predicted_customer_type', 'clv']\n",
      "\u001b[38;5;183m2023-12-02 18:15:34,192 - sql_interactions.py - insert_many - INFO - (the shape of the table which is going to be imported (11, 4)) - line: 145\u001b[0m\n",
      "\u001b[38;5;183m2023-12-02 18:15:34,192 - sql_interactions.py - insert_many - INFO - (insert structure: colnames: prediction_id, customer_id, predicted_customer_type, clv params: ?, ?, ?, ?) - line: 155\u001b[0m\n",
      "\u001b[38;5;183m2023-12-02 18:15:34,193 - sql_interactions.py - insert_many - INFO - ((0, 0, 'Star', 1765.4666883262423)) - line: 156\u001b[0m\n",
      "\u001b[38;5;183m2023-12-02 18:15:34,193 - sql_interactions.py - insert_many - INFO - (QUERY: INSERT INTO  clv_prediction (prediction_id, customer_id, predicted_customer_type, clv) VALUES (?, ?, ?, ?);) - line: 159\u001b[0m\n",
      "Traceback (most recent call last):\n",
      "  File \"/Users/075072/Desktop/ma_group_project/calculate_clv.py\", line 24, in <module>\n",
      "    dim_customer = connect_to_prediction.insert_many(prediction)\n",
      "  File \"/Users/075072/Desktop/ma_group_project/clv/db/sql_interactions.py\", line 161, in insert_many\n",
      "    self.cursor.executemany(query, values)\n",
      "sqlite3.IntegrityError: UNIQUE constraint failed: clv_prediction.prediction_id\n"
     ]
    }
   ],
   "source": [
    "!python calculate_clv.py"
   ]
  },
  {
   "cell_type": "markdown",
   "metadata": {},
   "source": [
    "Run the API on port 8000 to have "
   ]
  },
  {
   "cell_type": "code",
   "execution_count": null,
   "metadata": {},
   "outputs": [
    {
     "name": "stderr",
     "output_type": "stream",
     "text": [
      "INFO:     Started server process [1680]\n",
      "INFO:     Waiting for application startup.\n",
      "INFO:     Application startup complete.\n",
      "INFO:     Uvicorn running on http://0.0.0.0:8000 (Press CTRL+C to quit)\n"
     ]
    }
   ],
   "source": [
    "def run():\n",
    "    from clv.api.fast import app\n",
    "    uvicorn.run(app, host=\"0.0.0.0\", port=8000)\n",
    "\n",
    "# Run the Uvicorn server in a new thread\n",
    "thread = Thread(target=run)\n",
    "thread.start()\n"
   ]
  }
 ],
 "metadata": {
  "kernelspec": {
   "display_name": "Python 3",
   "language": "python",
   "name": "python3"
  },
  "language_info": {
   "codemirror_mode": {
    "name": "ipython",
    "version": 3
   },
   "file_extension": ".py",
   "mimetype": "text/x-python",
   "name": "python",
   "nbconvert_exporter": "python",
   "pygments_lexer": "ipython3",
   "version": "3.10.9"
  }
 },
 "nbformat": 4,
 "nbformat_minor": 2
}
